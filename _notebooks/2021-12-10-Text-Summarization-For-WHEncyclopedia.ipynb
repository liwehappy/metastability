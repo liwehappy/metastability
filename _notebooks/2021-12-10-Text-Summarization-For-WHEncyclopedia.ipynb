{
  "cells": [
    {
      "cell_type": "markdown",
      "metadata": {
        "id": "_kxZdzqlNGj_"
      },
      "source": [
        "# Text Summarization for World History Encyclopedia(a website)\n",
        "> Practical approaches addressing text summarization from World History Encyclopedia website.\n",
        "\n",
        "- toc: true \n",
        "- badges: true\n",
        "- comments: true\n",
        "- categories: [jupyter,machine learning,tf-idf,text summarization,rouge,LSA,TextRank]\n",
        "- image: images/World_history_encyclopedia.png"
      ]
    },
    {
      "cell_type": "code",
      "source": [
        "!pip install rouge_score"
      ],
      "metadata": {
        "colab": {
          "base_uri": "https://localhost:8080/"
        },
        "id": "O39qEWUzsSP0",
        "outputId": "a7444afe-d6d3-4d24-f080-4f495dc4d0d3"
      },
      "execution_count": 1,
      "outputs": [
        {
          "output_type": "stream",
          "name": "stdout",
          "text": [
            "Collecting rouge_score\n",
            "  Downloading rouge_score-0.0.4-py2.py3-none-any.whl (22 kB)\n",
            "Requirement already satisfied: absl-py in /usr/local/lib/python3.7/dist-packages (from rouge_score) (0.12.0)\n",
            "Requirement already satisfied: six>=1.14.0 in /usr/local/lib/python3.7/dist-packages (from rouge_score) (1.15.0)\n",
            "Requirement already satisfied: nltk in /usr/local/lib/python3.7/dist-packages (from rouge_score) (3.2.5)\n",
            "Requirement already satisfied: numpy in /usr/local/lib/python3.7/dist-packages (from rouge_score) (1.19.5)\n",
            "Installing collected packages: rouge-score\n",
            "Successfully installed rouge-score-0.0.4\n"
          ]
        }
      ]
    },
    {
      "cell_type": "code",
      "execution_count": 2,
      "metadata": {
        "id": "o7-Gi5n5-PLL"
      },
      "outputs": [],
      "source": [
        "from rouge_score import rouge_scorer\n",
        "from sklearn.feature_extraction.text import TfidfVectorizer\n",
        "from nltk import tokenize\n",
        "import matplotlib.pyplot as plt\n",
        "import html\n",
        "import re\n",
        "import random\n",
        "import rouge_score"
      ]
    },
    {
      "cell_type": "markdown",
      "source": [
        "# Tip from Practical NLP textbook"
      ],
      "metadata": {
        "id": "Wgcv6Kq6eS4x"
      }
    },
    {
      "cell_type": "markdown",
      "source": [
        " Categories of common text summarization tasks:\n",
        " - Extractive vs Abstractive summarization\n",
        " - Query-focused vs query-independent summarization\n",
        " - Single-document vs query-document summarization"
      ],
      "metadata": {
        "id": "rmynBPQieS4y"
      }
    },
    {
      "cell_type": "markdown",
      "source": [
        "Most common case:\n",
        " - Single document, query-independent, extractive summarizer."
      ],
      "metadata": {
        "id": "kDiRZkoheS4y"
      }
    },
    {
      "cell_type": "markdown",
      "source": [
        "Limitation:\n",
        " - May need to be customized into your own use cases\n",
        " - ROUGE method as a metric to evaluation summarization may also need to be customized for research prorblem.\n",
        " - Summarization is sensitive to the size of the text given as input. A better approach would be run text summarization separately on different part of texts."
      ],
      "metadata": {
        "id": "_qED6LaDeS4y"
      }
    },
    {
      "cell_type": "markdown",
      "source": [
        "<font size=\"6\">Incentive:</font>\n"
      ],
      "metadata": {
        "id": "v5qNIbQomEwV"
      }
    },
    {
      "cell_type": "markdown",
      "source": [
        "\n",
        "Although being a well-rounded person is not an easy task, gaining more general knowledge outside of our professionals especially knowledge from world history sometimes could give us another perspective to perceive our world or have more empathy toward environments and people. By far the most effective way to be well-rounded person is by reading more books from a variety of genres. However, people nowadays can be distracted by their personal hardships and relatioships with others and therefore lack of time to read every book from beginning to end. As a result, we provide a life saver in this situation for anyone wants to learn some history from website **World History Encyclopedia**. In this notebook, we are going to further summarize these already abbreviated history articles from this website. This summarization will not only save your time from truely read the whole artilce but also quickly help you understand the whole articles (if you have time to read) by reading this summarization first."
      ],
      "metadata": {
        "id": "5bSYtnQDm4H3"
      }
    },
    {
      "cell_type": "markdown",
      "metadata": {
        "id": "hIIvghqe-PLM"
      },
      "source": [
        "# Text Summarization"
      ]
    },
    {
      "cell_type": "markdown",
      "metadata": {
        "id": "bv-d8vsL-PLM"
      },
      "source": [
        "In this notebook, we focus on extractive methods in text summarization.\n"
      ]
    },
    {
      "cell_type": "markdown",
      "metadata": {
        "id": "s-P7X21Q-PLN"
      },
      "source": [
        "## Data pre-processing \n"
      ]
    },
    {
      "cell_type": "code",
      "execution_count": 3,
      "metadata": {
        "id": "0yOnLrdu-PLN"
      },
      "outputs": [],
      "source": [
        "import requests\n",
        "from bs4 import BeautifulSoup\n",
        "import os.path\n",
        "from dateutil import parser\n",
        "import pandas as pd\n",
        "import numpy as np\n",
        "import re\n",
        "import os"
      ]
    },
    {
      "cell_type": "code",
      "source": [
        "BASE_DIR = '/content'"
      ],
      "metadata": {
        "id": "5FP2DOlOu4Q2"
      },
      "execution_count": 4,
      "outputs": []
    },
    {
      "cell_type": "code",
      "execution_count": 5,
      "metadata": {
        "id": "FbSnouzD-PLN"
      },
      "outputs": [],
      "source": [
        "def download_article(url):\n",
        "    # check if article already there\n",
        "    filename = url.split('/')[-2] + \".html\"\n",
        "    os.makedirs('world_history_encyclopedia', exist_ok=True)\n",
        "    filename = f\"{BASE_DIR}/world_history_encyclopedia/\" + filename\n",
        "    if not os.path.isfile(filename):\n",
        "      r = requests.get(url)\n",
        "      with open(filename, \"w+\") as f:\n",
        "          f.write(r.text)\n",
        "    return filename"
      ]
    },
    {
      "cell_type": "code",
      "source": [
        "def clean_article(soup_source):\n",
        "    r = re.compile(\"(Sign up|news letter|\\n)\")\n",
        "    texts = \"\"\n",
        "    for t in soup_source.select('p'):\n",
        "        if 'World History Encyclopedia' in t.text:\n",
        "            break\n",
        "        else:\n",
        "            if not r.match(t.text):\n",
        "                texts += t.text + ' '\n",
        "    return texts"
      ],
      "metadata": {
        "id": "EKdgzX4E2u8w"
      },
      "execution_count": 6,
      "outputs": []
    },
    {
      "cell_type": "code",
      "source": [
        "def parse_article(article_file):\n",
        "    with open(article_file, \"r\") as f:\n",
        "        html = f.read()\n",
        "    r = {}\n",
        "    soup = BeautifulSoup(html, 'html.parser')\n",
        "    r['headline'] = soup.h1.text\n",
        "    r['first_paragraph'] = soup.p.text\n",
        "    r['text'] = clean_article(soup)\n",
        "    return r"
      ],
      "metadata": {
        "id": "p_ZpWifQBkvA"
      },
      "execution_count": 7,
      "outputs": []
    },
    {
      "cell_type": "code",
      "execution_count": 8,
      "metadata": {
        "id": "gug-DZaO-PLO",
        "outputId": "b324bf0a-b585-40e3-b60a-f535f4c5698b",
        "colab": {
          "base_uri": "https://localhost:8080/"
        }
      },
      "outputs": [
        {
          "output_type": "stream",
          "name": "stdout",
          "text": [
            "\"Mulan (“magnolia”) is a legendary character in Chinese literature who is best known in the modern day from the Disney filmed adaptations (1998, 2020). Her story, however, about a young girl who takes her father's place in the army to help save her country, is hundreds of years old The tale most likely originated in the Northern Wei Period (386-535 CE) of China before it was developed by succeed... Ja Quan) which combines tai chi with dance, Kung Fu, and other arts to create a unique form of self-defense and personal improvement. The discipline is intended to encourage the confidence, strength, and grace of Mulan in modern-day practitioners and is only one of the many examples of how the legend of Mulan continues to inspire people today, especially women, just as it has done in the past. \"\n"
          ]
        }
      ],
      "source": [
        "import reprlib\n",
        "r = reprlib.Repr()\n",
        "r.maxstring = 800\n",
        "\n",
        "url1 = \"https://www.worldhistory.org/article/1596/mulan-the-legend-through-history/\"\n",
        "article_name1 = download_article(url1)\n",
        "article1 = parse_article(article_name1)\n",
        "print (r.repr(article1['text']))"
      ]
    },
    {
      "cell_type": "markdown",
      "metadata": {
        "id": "z-tRmk00-PLO"
      },
      "source": [
        "## Summarizing text using topic representation"
      ]
    },
    {
      "cell_type": "markdown",
      "source": [
        "Topic representation methods distinguish important sentences by identifying topics of sentences through important words."
      ],
      "metadata": {
        "id": "IyWxkGbjZ6pm"
      }
    },
    {
      "cell_type": "markdown",
      "metadata": {
        "id": "XlwDTh77-PLP"
      },
      "source": [
        "### Baseline: Identifying important sentences with sum of TF-IDF values"
      ]
    },
    {
      "cell_type": "markdown",
      "source": [
        "In this simple technique, we sum over the tf-idf vectors of each sentence to determine if we include this setence to be our part of our summaries."
      ],
      "metadata": {
        "id": "dHKaxd-69SBc"
      }
    },
    {
      "cell_type": "code",
      "execution_count": 9,
      "metadata": {
        "id": "VAaNBXll-PLP",
        "colab": {
          "base_uri": "https://localhost:8080/"
        },
        "outputId": "f5b3e1d1-be4c-43e3-91db-b02002fa6e14"
      },
      "outputs": [
        {
          "output_type": "stream",
          "name": "stdout",
          "text": [
            "[nltk_data] Downloading package punkt to /root/nltk_data...\n",
            "[nltk_data]   Unzipping tokenizers/punkt.zip.\n"
          ]
        }
      ],
      "source": [
        "from sklearn.feature_extraction.text import TfidfVectorizer\n",
        "from nltk import tokenize\n",
        "import nltk\n",
        "\n",
        "nltk.download('punkt')\n",
        "\n",
        "sentences = tokenize.sent_tokenize(article1['text'])\n",
        "tfidfVectorizer = TfidfVectorizer()\n",
        "words_tfidf = tfidfVectorizer.fit_transform(sentences)"
      ]
    },
    {
      "cell_type": "code",
      "source": [
        "# Specify number lof summary sentences\n",
        "num_summary_sentence = 10\n",
        "\n",
        "# Sort the sentences in descending order by the sum of TF-IDF values\n",
        "sent_sum = words_tfidf.sum(axis=1)\n",
        "important_sent = np.argsort(sent_sum, axis=0)[::-1]\n",
        "\n",
        "# Print three most important sentences in the order they appear in the article\n",
        "for i in range(0, len(sentences)):\n",
        "    if i in important_sent[:num_summary_sentence]:\n",
        "        print (sentences[i])"
      ],
      "metadata": {
        "colab": {
          "base_uri": "https://localhost:8080/"
        },
        "id": "M57tBq4tAA2I",
        "outputId": "6101d80b-8ebc-4d47-edaa-d063b2f5b86a"
      },
      "execution_count": 10,
      "outputs": [
        {
          "output_type": "stream",
          "name": "stdout",
          "text": [
            "Her story, however, about a young girl who takes her father's place in the army to help save her country, is hundreds of years old The tale most likely originated in the Northern Wei Period (386-535 CE) of China before it was developed by succeeding authors.\n",
            "The play The Female Mulan (16th century CE) modifies earlier themes, moves the action back to the time of the Northern Wei, and introduces the happy ending of the marriage motif while succeeding versions conclude with Mulan killing herself to avoid the shame of having to become the emperor's concubine until the story returned the conclusion of the joyful family reunion and marriage.\n",
            "The modern and ancient versions follow basically the same plot of a young girl who takes her aged father's place in the army when he is called to serve, performs her duties admirably, saves her country, and returns home to her family where she is received with honor.\n",
            "In the Disney films, she is revealed as a woman but perseveres against the prohibition on females serving in the army to go beyond what is expected of her in defeating China's enemies; in the original version, where she serves 12 years, her gender is never questioned, and she only reveals herself at the end, much to the surprise of the men who served with her.\n",
            "The original poem takes place during the chaotic era between the fall of the Han Dynasty (202 BCE - 220 CE) and the rise of the Sui Dynasty (589-618 CE) during which China first split into the Period of the Three Kingdoms (220-280 CE) and was then ruled by succeeding short-lived dynasties, one of which was the Wei, which established itself during the period of the Northern and Southern Dynasties (386-589 CE).\n",
            "The author's choice of this time period and this threat is intentional to appeal to the historically literate of his audience since, in 386 CE in Northern Wei, there was unrest caused by rebels and bandits of the south and the Kingdom of Northern Wei did actually issue a call to arms and conscription.\n",
            "In the first act, she explains her situation, goes out and buys equipment, and then unbinds her feet (a practice which was unknown in the actual Northern Wei Period but would have been familiar to Xu Wei's audience) as the most telling detail of her transformation from female to male.\n",
            "Hua Hu is thus sent home, still as a man, in the company of her two fellow soldiers, to await the new appointment…As she travels with the soldiers, they comment on how strange it is that they have never seen Hua Hu use the toilet [Hua Hu responds with an allusion to the moon goddess whose face frequently changes and true self is unknown]…Returning home, Hua Hu first reapplies female makeup, then greets her family.\n",
            "The warrior woman Dou Xianniang also appears, combined with the “dark arts” aspect of The Story of the Loyal, Filial, and Heroic Mulan, to create an engaging character and the film works, drawing on many other aspects of the legend, to provide an audience with a new vision of the story instead of a simple remake of an earlier successful film.\n",
            "Among these women is Xun Guan of the Western Jin Dynasty (265-316 CE), the 13-year-old daughter of governor Xun Song, who led a hand-picked team of soldiers to break the lines of the enemy forces surrounding her father's city and brought back a relief force to lift the siege.\n"
          ]
        }
      ]
    },
    {
      "cell_type": "code",
      "execution_count": 11,
      "metadata": {
        "id": "MDmognOR-PLP"
      },
      "outputs": [],
      "source": [
        "from sklearn.feature_extraction.text import TfidfVectorizer\n",
        "from nltk import tokenize\n",
        "\n",
        "def tfidf_summary(text, num_summary_sentence):\n",
        "    summary_sentence = []\n",
        "    sentences = tokenize.sent_tokenize(text)\n",
        "    tfidfVectorizer = TfidfVectorizer()\n",
        "    words_tfidf = tfidfVectorizer.fit_transform(sentences)\n",
        "    sentence_sum = words_tfidf.sum(axis=1)\n",
        "    important_sentences = np.argsort(sentence_sum, axis=0)[::-1]\n",
        "    for i in range(0, len(sentences)):\n",
        "        if i in important_sentences[:num_summary_sentence]:\n",
        "            summary_sentence.append(sentences[i])\n",
        "    return summary_sentence"
      ]
    },
    {
      "cell_type": "code",
      "source": [
        "print(\"Tf-IDF method:\")\n",
        "tfidf_summary(article1['text'], 10)"
      ],
      "metadata": {
        "colab": {
          "base_uri": "https://localhost:8080/"
        },
        "id": "Sv1cwuMubRlR",
        "outputId": "af0ad18d-55bf-4f34-f7f3-2d3944083961"
      },
      "execution_count": 12,
      "outputs": [
        {
          "output_type": "stream",
          "name": "stdout",
          "text": [
            "Tf-IDF method:\n"
          ]
        },
        {
          "output_type": "execute_result",
          "data": {
            "text/plain": [
              "[\"Her story, however, about a young girl who takes her father's place in the army to help save her country, is hundreds of years old The tale most likely originated in the Northern Wei Period (386-535 CE) of China before it was developed by succeeding authors.\",\n",
              " \"The play The Female Mulan (16th century CE) modifies earlier themes, moves the action back to the time of the Northern Wei, and introduces the happy ending of the marriage motif while succeeding versions conclude with Mulan killing herself to avoid the shame of having to become the emperor's concubine until the story returned the conclusion of the joyful family reunion and marriage.\",\n",
              " \"The modern and ancient versions follow basically the same plot of a young girl who takes her aged father's place in the army when he is called to serve, performs her duties admirably, saves her country, and returns home to her family where she is received with honor.\",\n",
              " \"In the Disney films, she is revealed as a woman but perseveres against the prohibition on females serving in the army to go beyond what is expected of her in defeating China's enemies; in the original version, where she serves 12 years, her gender is never questioned, and she only reveals herself at the end, much to the surprise of the men who served with her.\",\n",
              " 'The original poem takes place during the chaotic era between the fall of the Han Dynasty (202 BCE - 220 CE) and the rise of the Sui Dynasty (589-618 CE) during which China first split into the Period of the Three Kingdoms (220-280 CE) and was then ruled by succeeding short-lived dynasties, one of which was the Wei, which established itself during the period of the Northern and Southern Dynasties (386-589 CE).',\n",
              " \"The author's choice of this time period and this threat is intentional to appeal to the historically literate of his audience since, in 386 CE in Northern Wei, there was unrest caused by rebels and bandits of the south and the Kingdom of Northern Wei did actually issue a call to arms and conscription.\",\n",
              " \"In the first act, she explains her situation, goes out and buys equipment, and then unbinds her feet (a practice which was unknown in the actual Northern Wei Period but would have been familiar to Xu Wei's audience) as the most telling detail of her transformation from female to male.\",\n",
              " 'Hua Hu is thus sent home, still as a man, in the company of her two fellow soldiers, to await the new appointment…As she travels with the soldiers, they comment on how strange it is that they have never seen Hua Hu use the toilet [Hua Hu responds with an allusion to the moon goddess whose face frequently changes and true self is unknown]…Returning home, Hua Hu first reapplies female makeup, then greets her family.',\n",
              " 'The warrior woman Dou Xianniang also appears, combined with the “dark arts” aspect of The Story of the Loyal, Filial, and Heroic Mulan, to create an engaging character and the film works, drawing on many other aspects of the legend, to provide an audience with a new vision of the story instead of a simple remake of an earlier successful film.',\n",
              " \"Among these women is Xun Guan of the Western Jin Dynasty (265-316 CE), the 13-year-old daughter of governor Xun Song, who led a hand-picked team of soldiers to break the lines of the enemy forces surrounding her father's city and brought back a relief force to lift the siege.\"]"
            ]
          },
          "metadata": {},
          "execution_count": 12
        }
      ]
    },
    {
      "cell_type": "markdown",
      "metadata": {
        "id": "WCsc-cvg-PLP"
      },
      "source": [
        "### LSA algorithm\n"
      ]
    },
    {
      "cell_type": "markdown",
      "source": [
        "LSA essentiallu perform SVD technique from linear algebra to simply the original term frequency sentence matrix into matrices with essence of the article."
      ],
      "metadata": {
        "id": "vvmDNPJ6inRM"
      }
    },
    {
      "cell_type": "code",
      "source": [
        "!pip install sumy"
      ],
      "metadata": {
        "colab": {
          "base_uri": "https://localhost:8080/"
        },
        "id": "3ri7UVTqv-lY",
        "outputId": "dee5c274-eca5-4e23-d600-77b9189b41ea"
      },
      "execution_count": 13,
      "outputs": [
        {
          "output_type": "stream",
          "name": "stdout",
          "text": [
            "Collecting sumy\n",
            "  Downloading sumy-0.9.0-py2.py3-none-any.whl (87 kB)\n",
            "\u001b[?25l\r\u001b[K     |███▊                            | 10 kB 30.9 MB/s eta 0:00:01\r\u001b[K     |███████▌                        | 20 kB 9.1 MB/s eta 0:00:01\r\u001b[K     |███████████▏                    | 30 kB 7.7 MB/s eta 0:00:01\r\u001b[K     |███████████████                 | 40 kB 7.1 MB/s eta 0:00:01\r\u001b[K     |██████████████████▋             | 51 kB 4.0 MB/s eta 0:00:01\r\u001b[K     |██████████████████████▍         | 61 kB 4.2 MB/s eta 0:00:01\r\u001b[K     |██████████████████████████      | 71 kB 4.3 MB/s eta 0:00:01\r\u001b[K     |█████████████████████████████▉  | 81 kB 4.8 MB/s eta 0:00:01\r\u001b[K     |████████████████████████████████| 87 kB 3.1 MB/s \n",
            "\u001b[?25hRequirement already satisfied: requests>=2.7.0 in /usr/local/lib/python3.7/dist-packages (from sumy) (2.23.0)\n",
            "Requirement already satisfied: docopt<0.7,>=0.6.1 in /usr/local/lib/python3.7/dist-packages (from sumy) (0.6.2)\n",
            "Collecting breadability>=0.1.20\n",
            "  Downloading breadability-0.1.20.tar.gz (32 kB)\n",
            "Requirement already satisfied: nltk>=3.0.2 in /usr/local/lib/python3.7/dist-packages (from sumy) (3.2.5)\n",
            "Collecting pycountry>=18.2.23\n",
            "  Downloading pycountry-22.1.10.tar.gz (10.1 MB)\n",
            "\u001b[K     |████████████████████████████████| 10.1 MB 22.0 MB/s \n",
            "\u001b[?25hRequirement already satisfied: chardet in /usr/local/lib/python3.7/dist-packages (from breadability>=0.1.20->sumy) (3.0.4)\n",
            "Requirement already satisfied: lxml>=2.0 in /usr/local/lib/python3.7/dist-packages (from breadability>=0.1.20->sumy) (4.2.6)\n",
            "Requirement already satisfied: six in /usr/local/lib/python3.7/dist-packages (from nltk>=3.0.2->sumy) (1.15.0)\n",
            "Requirement already satisfied: setuptools in /usr/local/lib/python3.7/dist-packages (from pycountry>=18.2.23->sumy) (57.4.0)\n",
            "Requirement already satisfied: urllib3!=1.25.0,!=1.25.1,<1.26,>=1.21.1 in /usr/local/lib/python3.7/dist-packages (from requests>=2.7.0->sumy) (1.24.3)\n",
            "Requirement already satisfied: certifi>=2017.4.17 in /usr/local/lib/python3.7/dist-packages (from requests>=2.7.0->sumy) (2021.10.8)\n",
            "Requirement already satisfied: idna<3,>=2.5 in /usr/local/lib/python3.7/dist-packages (from requests>=2.7.0->sumy) (2.10)\n",
            "Building wheels for collected packages: breadability, pycountry\n",
            "  Building wheel for breadability (setup.py) ... \u001b[?25l\u001b[?25hdone\n",
            "  Created wheel for breadability: filename=breadability-0.1.20-py2.py3-none-any.whl size=21712 sha256=d2f35a390003a31bda7ce4701ff7bba2004665ecb82e12a0c08437ae7461f47e\n",
            "  Stored in directory: /root/.cache/pip/wheels/d4/bf/51/81d27ad638e1a6dca4f362ecc33d1e2c764b8ea7ec751b8fc1\n",
            "  Building wheel for pycountry (setup.py) ... \u001b[?25l\u001b[?25hdone\n",
            "  Created wheel for pycountry: filename=pycountry-22.1.10-py2.py3-none-any.whl size=10595784 sha256=d088f868648dcdcce0c3a8c2b88159fdc4dfbd6a570cca431e0839d3b269af3f\n",
            "  Stored in directory: /root/.cache/pip/wheels/f7/8f/9c/b070d7376caf2beb0685bf72578106b2fd57019ed57d84f126\n",
            "Successfully built breadability pycountry\n",
            "Installing collected packages: pycountry, breadability, sumy\n",
            "Successfully installed breadability-0.1.20 pycountry-22.1.10 sumy-0.9.0\n"
          ]
        }
      ]
    },
    {
      "cell_type": "code",
      "source": [
        "from sumy.parsers.plaintext import PlaintextParser\n",
        "from sumy.nlp.tokenizers import Tokenizer\n",
        "from sumy.nlp.stemmers import Stemmer\n",
        "from sumy.utils import get_stop_words\n",
        "\n",
        "from sumy.summarizers.lsa import LsaSummarizer\n",
        "\n",
        "LANGUAGE = \"english\"\n",
        "stemmer = Stemmer(LANGUAGE)\n",
        "\n",
        "parser = PlaintextParser.from_string(article1['text'], Tokenizer(LANGUAGE))\n",
        "\n",
        "summarizer = LsaSummarizer(stemmer)\n",
        "summarizer.stop_words = get_stop_words(LANGUAGE)\n",
        "\n",
        "for sentence in summarizer(parser.document, num_summary_sentence):\n",
        "    print (str(sentence))\n"
      ],
      "metadata": {
        "colab": {
          "base_uri": "https://localhost:8080/"
        },
        "id": "oWf1Z1YHDcFm",
        "outputId": "9d6321e8-c1bf-47b9-a32c-7cd7d667a55e"
      },
      "execution_count": 14,
      "outputs": [
        {
          "output_type": "stream",
          "name": "stdout",
          "text": [
            "Her story, however, about a young girl who takes her father's place in the army to help save her country, is hundreds of years old The tale most likely originated in the Northern Wei Period (386-535 CE) of China before it was developed by succeeding authors.\n",
            "Scholarly consensus is that Mulan is a fictional character, probably developed in Northern China in response to the greater independence women enjoyed there, whose legend was then revised in succeeding eras to reflect the values and challenges of the times.\n",
            "The original work, The Poem of Mulan, dates to the 6th century CE and reflects the influences of Mongolian-Turkic peoples on the region with a focus on filial piety the central virtue and moral of the tale.\n",
            "By the time the character reached the modern era, through the film Mulan Joins the Army (1939), she was a staunch nationalist, driving out foreign invaders, and her earlier virtue of filial piety had been replaced by unwavering love for her country.\n",
            "Since the appearance of the 1998 Disney animated film, Mulan's story has grown in popularity and drawn attention to the other women, all historically attested, who took up arms for a cause they believed in throughout China's history.\n",
            "The story, as it is best known today through the recent films, places Mulan in an unidentified era of Imperial China (221 BCE - 1912 CE), but the original poem is set during the Northern Wei Period.\n",
            "The modern and ancient versions follow basically the same plot of a young girl who takes her aged father's place in the army when he is called to serve, performs her duties admirably, saves her country, and returns home to her family where she is received with honor.\n",
            "According to Shiamin and Idema, an opera Mu Lan Joins the Army was written in 1903 CE which sets the action in the Han Dynasty with the Xiongnu (a tribe of warriors often associated with the Huns) serving as the antagonists.\n",
            "This version tells the same story but with typically Disney additions of a comical talking dragon, sentient cricket, and seemingly self-aware horse and retains the happy ending of the reunion of Mulan with her father and family and the suggestion that she will marry the handsome commander she served with.\n",
            "The warrior woman Wong Cong'er (l. c. 1777-1798 CE) commanded the White Lotus Sect in the rebellion against the Qing Dynasty, leading an army of men and using guerilla tactics to achieve a number of significant victories.\n"
          ]
        }
      ]
    },
    {
      "cell_type": "code",
      "source": [
        "\n",
        "from sumy.parsers.plaintext import PlaintextParser\n",
        "from sumy.nlp.tokenizers import Tokenizer\n",
        "from sumy.nlp.stemmers import Stemmer\n",
        "from sumy.utils import get_stop_words\n",
        "from sumy.summarizers.lsa import LsaSummarizer\n",
        "\n",
        "def lsa_summary(text, num_summary_sentence):\n",
        "    summary_sentence = []\n",
        "    LANGUAGE = \"english\"\n",
        "    stemmer = Stemmer(LANGUAGE)\n",
        "    parser = PlaintextParser.from_string(text, Tokenizer(LANGUAGE))\n",
        "    summarizer = LsaSummarizer(stemmer)\n",
        "    summarizer.stop_words = get_stop_words(LANGUAGE)\n",
        "    for sentence in summarizer(parser.document, num_summary_sentence):\n",
        "        summary_sentence.append(str(sentence))\n",
        "    return summary_sentence"
      ],
      "metadata": {
        "id": "7FbQvYIsD3Ld"
      },
      "execution_count": 15,
      "outputs": []
    },
    {
      "cell_type": "code",
      "source": [
        "print(\"LSA Method:\")\n",
        "lsa_summary(article1['text'], 10)"
      ],
      "metadata": {
        "colab": {
          "base_uri": "https://localhost:8080/"
        },
        "id": "t_yI1AlMcI0f",
        "outputId": "f1cc82ae-71fc-4dfa-a268-c58894f3da76"
      },
      "execution_count": 19,
      "outputs": [
        {
          "output_type": "stream",
          "name": "stdout",
          "text": [
            "LSA Method:\n"
          ]
        },
        {
          "output_type": "execute_result",
          "data": {
            "text/plain": [
              "[\"Her story, however, about a young girl who takes her father's place in the army to help save her country, is hundreds of years old The tale most likely originated in the Northern Wei Period (386-535 CE) of China before it was developed by succeeding authors.\",\n",
              " 'Scholarly consensus is that Mulan is a fictional character, probably developed in Northern China in response to the greater independence women enjoyed there, whose legend was then revised in succeeding eras to reflect the values and challenges of the times.',\n",
              " 'The original work, The Poem of Mulan, dates to the 6th century CE and reflects the influences of Mongolian-Turkic peoples on the region with a focus on filial piety the central virtue and moral of the tale.',\n",
              " 'By the time the character reached the modern era, through the film Mulan Joins the Army (1939), she was a staunch nationalist, driving out foreign invaders, and her earlier virtue of filial piety had been replaced by unwavering love for her country.',\n",
              " \"Since the appearance of the 1998 Disney animated film, Mulan's story has grown in popularity and drawn attention to the other women, all historically attested, who took up arms for a cause they believed in throughout China's history.\",\n",
              " 'The story, as it is best known today through the recent films, places Mulan in an unidentified era of Imperial China (221 BCE - 1912 CE), but the original poem is set during the Northern Wei Period.',\n",
              " \"The modern and ancient versions follow basically the same plot of a young girl who takes her aged father's place in the army when he is called to serve, performs her duties admirably, saves her country, and returns home to her family where she is received with honor.\",\n",
              " 'According to Shiamin and Idema, an opera Mu Lan Joins the Army was written in 1903 CE which sets the action in the Han Dynasty with the Xiongnu (a tribe of warriors often associated with the Huns) serving as the antagonists.',\n",
              " 'This version tells the same story but with typically Disney additions of a comical talking dragon, sentient cricket, and seemingly self-aware horse and retains the happy ending of the reunion of Mulan with her father and family and the suggestion that she will marry the handsome commander she served with.',\n",
              " \"The warrior woman Wong Cong'er (l. c. 1777-1798 CE) commanded the White Lotus Sect in the rebellion against the Qing Dynasty, leading an army of men and using guerilla tactics to achieve a number of significant victories.\"]"
            ]
          },
          "metadata": {},
          "execution_count": 19
        }
      ]
    },
    {
      "cell_type": "markdown",
      "metadata": {
        "id": "cQYjFe4F-PLR"
      },
      "source": [
        "## Summarizing text using an indicator representation"
      ]
    },
    {
      "cell_type": "markdown",
      "source": [
        "Basically, indicator representation technique create intermediate featuress between sentences to take into account their relationship instead of using only words in each sentence. "
      ],
      "metadata": {
        "id": "v3n_ZdbyYGFL"
      }
    },
    {
      "cell_type": "markdown",
      "source": [
        "### TextRank algorithm"
      ],
      "metadata": {
        "id": "bizWKsI6xlHS"
      }
    },
    {
      "cell_type": "markdown",
      "source": [
        "TextRank technique is inspired by Google's graph-based ranking algorithm. In the case of natural language text, the author of this technique build a graph associated with the text. Original paper can be found [here](https://web.eecs.umich.edu/~mihalcea/papers/mihalcea.emnlp04.pdf)"
      ],
      "metadata": {
        "id": "gRBnae1yZxm7"
      }
    },
    {
      "cell_type": "code",
      "execution_count": 20,
      "metadata": {
        "id": "OiwA7-bh-PLR",
        "outputId": "84025ef1-bca1-4880-b814-2488fbcb564e",
        "colab": {
          "base_uri": "https://localhost:8080/"
        }
      },
      "outputs": [
        {
          "output_type": "stream",
          "name": "stdout",
          "text": [
            "The play The Female Mulan (16th century CE) modifies earlier themes, moves the action back to the time of the Northern Wei, and introduces the happy ending of the marriage motif while succeeding versions conclude with Mulan killing herself to avoid the shame of having to become the emperor's concubine until the story returned the conclusion of the joyful family reunion and marriage.\n",
            "The story, as it is best known today through the recent films, places Mulan in an unidentified era of Imperial China (221 BCE - 1912 CE), but the original poem is set during the Northern Wei Period.\n",
            "The original poem takes place during the chaotic era between the fall of the Han Dynasty (202 BCE - 220 CE) and the rise of the Sui Dynasty (589-618 CE) during which China first split into the Period of the Three Kingdoms (220-280 CE) and was then ruled by succeeding short-lived dynasties, one of which was the Wei, which established itself during the period of the Northern and Southern Dynasties (386-589 CE).\n",
            "There are no known versions of the Mulan story between the Tang Dynasty and the play The Female Mulan by the playwright Xu Wei (l. 1521-1593 CE) so it is assumed that Xu Wei drew on Guo Maoqian's work for his own.\n",
            "In this version, Mulan is the daughter of a Turkish father and Chinese mother and, when the Turkish khan conscripts her father, Mulan goes in his place.\n",
            "This same story is told, with significant differences, in The Story of the Loyal, Filial, and Heroic Mulan (also known as The Complete Account of Extraordinary Mulan, c. 1800 CE).\n",
            "The Mulan legend was first featured on film in China in 1939 in Mulan Joins the Army which presented her as an ardent nationalist whose zeal for her country and heroism shames her male comrades throughout her tour of duty.\n",
            "Mulan was featured, or alluded to, in other Chinese films afterwards but received international attention in 1998 with Disney's release of the animated feature film Mulan.\n",
            "The warrior woman Dou Xianniang also appears, combined with the “dark arts” aspect of The Story of the Loyal, Filial, and Heroic Mulan, to create an engaging character and the film works, drawing on many other aspects of the legend, to provide an audience with a new vision of the story instead of a simple remake of an earlier successful film.\n",
            "Mulan's story, and name, were also influential in the establishment of the martial art of Mulan Quan (also Mulan Hua Ja Quan) which combines tai chi with dance, Kung Fu, and other arts to create a unique form of self-defense and personal improvement.\n"
          ]
        }
      ],
      "source": [
        "from sumy.summarizers.text_rank import TextRankSummarizer\n",
        "\n",
        "parser = PlaintextParser.from_string(article1['text'], Tokenizer(LANGUAGE))\n",
        "summarizer = TextRankSummarizer(stemmer)\n",
        "summarizer.stop_words = get_stop_words(LANGUAGE)\n",
        "\n",
        "for sentence in summarizer(parser.document, num_summary_sentence):\n",
        "    print (str(sentence))"
      ]
    },
    {
      "cell_type": "code",
      "execution_count": 21,
      "metadata": {
        "id": "9syJ9ZJE-PLR"
      },
      "outputs": [],
      "source": [
        "from sumy.parsers.plaintext import PlaintextParser\n",
        "from sumy.nlp.tokenizers import Tokenizer\n",
        "from sumy.nlp.stemmers import Stemmer\n",
        "from sumy.utils import get_stop_words\n",
        "from sumy.summarizers.text_rank import TextRankSummarizer\n",
        "\n",
        "def textrank_summary(text, num_summary_sentence):\n",
        "    summary_sentence = []\n",
        "    LANGUAGE = \"english\"\n",
        "    stemmer = Stemmer(LANGUAGE)\n",
        "    parser = PlaintextParser.from_string(text, Tokenizer(LANGUAGE))\n",
        "    summarizer = TextRankSummarizer(stemmer)\n",
        "    summarizer.stop_words = get_stop_words(LANGUAGE)\n",
        "    for sentence in summarizer(parser.document, num_summary_sentence):\n",
        "        summary_sentence.append(str(sentence))\n",
        "    return summary_sentence"
      ]
    },
    {
      "cell_type": "code",
      "execution_count": 22,
      "metadata": {
        "id": "bXstcPPe-PLR",
        "outputId": "690fd339-33ca-48d7-98ba-7bc1a32cc622",
        "colab": {
          "base_uri": "https://localhost:8080/"
        }
      },
      "outputs": [
        {
          "output_type": "execute_result",
          "data": {
            "text/plain": [
              "[\"The play The Female Mulan (16th century CE) modifies earlier themes, moves the action back to the time of the Northern Wei, and introduces the happy ending of the marriage motif while succeeding versions conclude with Mulan killing herself to avoid the shame of having to become the emperor's concubine until the story returned the conclusion of the joyful family reunion and marriage.\",\n",
              " 'The story, as it is best known today through the recent films, places Mulan in an unidentified era of Imperial China (221 BCE - 1912 CE), but the original poem is set during the Northern Wei Period.',\n",
              " 'The original poem takes place during the chaotic era between the fall of the Han Dynasty (202 BCE - 220 CE) and the rise of the Sui Dynasty (589-618 CE) during which China first split into the Period of the Three Kingdoms (220-280 CE) and was then ruled by succeeding short-lived dynasties, one of which was the Wei, which established itself during the period of the Northern and Southern Dynasties (386-589 CE).',\n",
              " \"There are no known versions of the Mulan story between the Tang Dynasty and the play The Female Mulan by the playwright Xu Wei (l. 1521-1593 CE) so it is assumed that Xu Wei drew on Guo Maoqian's work for his own.\",\n",
              " 'In this version, Mulan is the daughter of a Turkish father and Chinese mother and, when the Turkish khan conscripts her father, Mulan goes in his place.',\n",
              " 'This same story is told, with significant differences, in The Story of the Loyal, Filial, and Heroic Mulan (also known as The Complete Account of Extraordinary Mulan, c. 1800 CE).',\n",
              " 'The Mulan legend was first featured on film in China in 1939 in Mulan Joins the Army which presented her as an ardent nationalist whose zeal for her country and heroism shames her male comrades throughout her tour of duty.',\n",
              " \"Mulan was featured, or alluded to, in other Chinese films afterwards but received international attention in 1998 with Disney's release of the animated feature film Mulan.\",\n",
              " 'The warrior woman Dou Xianniang also appears, combined with the “dark arts” aspect of The Story of the Loyal, Filial, and Heroic Mulan, to create an engaging character and the film works, drawing on many other aspects of the legend, to provide an audience with a new vision of the story instead of a simple remake of an earlier successful film.',\n",
              " \"Mulan's story, and name, were also influential in the establishment of the martial art of Mulan Quan (also Mulan Hua Ja Quan) which combines tai chi with dance, Kung Fu, and other arts to create a unique form of self-defense and personal improvement.\"]"
            ]
          },
          "metadata": {},
          "execution_count": 22
        }
      ],
      "source": [
        "textrank_summary(article1['text'], 10)"
      ]
    },
    {
      "cell_type": "markdown",
      "metadata": {
        "id": "UH41hwmF-PLS"
      },
      "source": [
        "## Measuring the performance of Text Summarization methods(Rouge Score)"
      ]
    },
    {
      "cell_type": "markdown",
      "source": [
        "ROUGE - Recall-Oriented Understudy for Gisting Evaluation, is a popular metrics for measuring the accuracy when dealing with langugage summarization or translation. Although ROUGE method can only measure syntactical matches rather than semantic similarities between words, it is still a very good tool at hand to handle summarization and machine translation tasks."
      ],
      "metadata": {
        "id": "ivZ5dUlNNoU9"
      }
    },
    {
      "cell_type": "code",
      "execution_count": 23,
      "metadata": {
        "id": "wvzmIAAW-PLS"
      },
      "outputs": [],
      "source": [
        "def print_rouge_score(rouge_score):\n",
        "    for k,v in rouge_score.items():\n",
        "        print (k, 'Precision:', \"{:.2f}\".format(v.precision), 'Recall:', \"{:.2f}\".format(v.recall), 'fmeasure:', \"{:.2f}\".format(v.fmeasure))"
      ]
    },
    {
      "cell_type": "markdown",
      "source": [
        "Since we don't have human-generated summaries of these World History Encyclopedia articles, model evaluation below, we will use the first paragraph as the gist of each of articles from world history encyclopedia."
      ],
      "metadata": {
        "id": "csgzG71cKqtR"
      }
    },
    {
      "cell_type": "markdown",
      "source": [
        "# Example articles"
      ],
      "metadata": {
        "id": "vggVptR7v6D1"
      }
    },
    {
      "cell_type": "code",
      "source": [
        "class TextSummarization():\n",
        "\n",
        "    def __init__(self, url, alg, num_sentences):\n",
        "        self.article = parse_article(download_article(url))\n",
        "        self.raw_summary = ''.join(alg(self.article['text'], num_sentences))\n",
        "        self.summary_alg = alg\n",
        "        self.num_sentences = num_summary_sentence\n",
        "        self.standard = self.article['first_paragraph']\n",
        "\n",
        "    def rouge_score(self, n_gram):\n",
        "        # assert isinstance(n_gram, list) == True, \"Not list type\"\n",
        "        # rouge score can also be measured based on different length of ngrams\n",
        "        scorer = rouge_scorer.RougeScorer([f'rouge{n_gram}'], use_stemmer=True)\n",
        "        scores = scorer.score(self.standard, self.raw_summary)\n",
        "        print(self.summary_alg.__name__ + \":\")\n",
        "        print_rouge_score(scores)\n",
        "\n",
        "    def print_summary(self):\n",
        "        print()\n",
        "        print(*self.summary_alg(self.article['text'], self.num_sentences), sep='\\n')\n",
        "        print()\n"
      ],
      "metadata": {
        "id": "9nolLzDtwk8F"
      },
      "execution_count": 83,
      "outputs": []
    },
    {
      "cell_type": "markdown",
      "source": [
        "## Mulan: The Legend Through History"
      ],
      "metadata": {
        "id": "Us95x7L2E7Ab"
      }
    },
    {
      "cell_type": "code",
      "source": [
        "url = 'https://www.worldhistory.org/article/1596/mulan-the-legend-through-history/'\n",
        "lsa_summa = TextSummarization(url, tfidf_summary, 10)\n",
        "lsa_summa.rouge_score(2)\n",
        "lsa_summa.print_summary()\n",
        "lsa_summa = TextSummarization(url, lsa_summary, 10)\n",
        "lsa_summa.rouge_score(2)\n",
        "lsa_summa.print_summary()\n",
        "lsa_summa = TextSummarization(url, textrank_summary, 10)\n",
        "lsa_summa.rouge_score(2)\n",
        "lsa_summa.print_summary()"
      ],
      "metadata": {
        "colab": {
          "base_uri": "https://localhost:8080/"
        },
        "id": "9KZej5d60p-j",
        "outputId": "566a62e6-abbd-41a5-b000-a9d0a4a61fd2"
      },
      "execution_count": 84,
      "outputs": [
        {
          "output_type": "stream",
          "name": "stdout",
          "text": [
            "tfidf_summary:\n",
            "rouge2 Precision: 0.05 Recall: 0.59 fmeasure: 0.09\n",
            "\n",
            "Her story, however, about a young girl who takes her father's place in the army to help save her country, is hundreds of years old The tale most likely originated in the Northern Wei Period (386-535 CE) of China before it was developed by succeeding authors.\n",
            "The play The Female Mulan (16th century CE) modifies earlier themes, moves the action back to the time of the Northern Wei, and introduces the happy ending of the marriage motif while succeeding versions conclude with Mulan killing herself to avoid the shame of having to become the emperor's concubine until the story returned the conclusion of the joyful family reunion and marriage.\n",
            "The modern and ancient versions follow basically the same plot of a young girl who takes her aged father's place in the army when he is called to serve, performs her duties admirably, saves her country, and returns home to her family where she is received with honor.\n",
            "In the Disney films, she is revealed as a woman but perseveres against the prohibition on females serving in the army to go beyond what is expected of her in defeating China's enemies; in the original version, where she serves 12 years, her gender is never questioned, and she only reveals herself at the end, much to the surprise of the men who served with her.\n",
            "The original poem takes place during the chaotic era between the fall of the Han Dynasty (202 BCE - 220 CE) and the rise of the Sui Dynasty (589-618 CE) during which China first split into the Period of the Three Kingdoms (220-280 CE) and was then ruled by succeeding short-lived dynasties, one of which was the Wei, which established itself during the period of the Northern and Southern Dynasties (386-589 CE).\n",
            "The author's choice of this time period and this threat is intentional to appeal to the historically literate of his audience since, in 386 CE in Northern Wei, there was unrest caused by rebels and bandits of the south and the Kingdom of Northern Wei did actually issue a call to arms and conscription.\n",
            "In the first act, she explains her situation, goes out and buys equipment, and then unbinds her feet (a practice which was unknown in the actual Northern Wei Period but would have been familiar to Xu Wei's audience) as the most telling detail of her transformation from female to male.\n",
            "Hua Hu is thus sent home, still as a man, in the company of her two fellow soldiers, to await the new appointment…As she travels with the soldiers, they comment on how strange it is that they have never seen Hua Hu use the toilet [Hua Hu responds with an allusion to the moon goddess whose face frequently changes and true self is unknown]…Returning home, Hua Hu first reapplies female makeup, then greets her family.\n",
            "The warrior woman Dou Xianniang also appears, combined with the “dark arts” aspect of The Story of the Loyal, Filial, and Heroic Mulan, to create an engaging character and the film works, drawing on many other aspects of the legend, to provide an audience with a new vision of the story instead of a simple remake of an earlier successful film.\n",
            "Among these women is Xun Guan of the Western Jin Dynasty (265-316 CE), the 13-year-old daughter of governor Xun Song, who led a hand-picked team of soldiers to break the lines of the enemy forces surrounding her father's city and brought back a relief force to lift the siege.\n",
            "\n",
            "lsa_summary:\n",
            "rouge2 Precision: 0.07 Recall: 0.61 fmeasure: 0.13\n",
            "\n",
            "Her story, however, about a young girl who takes her father's place in the army to help save her country, is hundreds of years old The tale most likely originated in the Northern Wei Period (386-535 CE) of China before it was developed by succeeding authors.\n",
            "Scholarly consensus is that Mulan is a fictional character, probably developed in Northern China in response to the greater independence women enjoyed there, whose legend was then revised in succeeding eras to reflect the values and challenges of the times.\n",
            "The original work, The Poem of Mulan, dates to the 6th century CE and reflects the influences of Mongolian-Turkic peoples on the region with a focus on filial piety the central virtue and moral of the tale.\n",
            "By the time the character reached the modern era, through the film Mulan Joins the Army (1939), she was a staunch nationalist, driving out foreign invaders, and her earlier virtue of filial piety had been replaced by unwavering love for her country.\n",
            "Since the appearance of the 1998 Disney animated film, Mulan's story has grown in popularity and drawn attention to the other women, all historically attested, who took up arms for a cause they believed in throughout China's history.\n",
            "The story, as it is best known today through the recent films, places Mulan in an unidentified era of Imperial China (221 BCE - 1912 CE), but the original poem is set during the Northern Wei Period.\n",
            "The modern and ancient versions follow basically the same plot of a young girl who takes her aged father's place in the army when he is called to serve, performs her duties admirably, saves her country, and returns home to her family where she is received with honor.\n",
            "According to Shiamin and Idema, an opera Mu Lan Joins the Army was written in 1903 CE which sets the action in the Han Dynasty with the Xiongnu (a tribe of warriors often associated with the Huns) serving as the antagonists.\n",
            "This version tells the same story but with typically Disney additions of a comical talking dragon, sentient cricket, and seemingly self-aware horse and retains the happy ending of the reunion of Mulan with her father and family and the suggestion that she will marry the handsome commander she served with.\n",
            "The warrior woman Wong Cong'er (l. c. 1777-1798 CE) commanded the White Lotus Sect in the rebellion against the Qing Dynasty, leading an army of men and using guerilla tactics to achieve a number of significant victories.\n",
            "\n",
            "textrank_summary:\n",
            "rouge2 Precision: 0.02 Recall: 0.14 fmeasure: 0.03\n",
            "\n",
            "The play The Female Mulan (16th century CE) modifies earlier themes, moves the action back to the time of the Northern Wei, and introduces the happy ending of the marriage motif while succeeding versions conclude with Mulan killing herself to avoid the shame of having to become the emperor's concubine until the story returned the conclusion of the joyful family reunion and marriage.\n",
            "The story, as it is best known today through the recent films, places Mulan in an unidentified era of Imperial China (221 BCE - 1912 CE), but the original poem is set during the Northern Wei Period.\n",
            "The original poem takes place during the chaotic era between the fall of the Han Dynasty (202 BCE - 220 CE) and the rise of the Sui Dynasty (589-618 CE) during which China first split into the Period of the Three Kingdoms (220-280 CE) and was then ruled by succeeding short-lived dynasties, one of which was the Wei, which established itself during the period of the Northern and Southern Dynasties (386-589 CE).\n",
            "There are no known versions of the Mulan story between the Tang Dynasty and the play The Female Mulan by the playwright Xu Wei (l. 1521-1593 CE) so it is assumed that Xu Wei drew on Guo Maoqian's work for his own.\n",
            "In this version, Mulan is the daughter of a Turkish father and Chinese mother and, when the Turkish khan conscripts her father, Mulan goes in his place.\n",
            "This same story is told, with significant differences, in The Story of the Loyal, Filial, and Heroic Mulan (also known as The Complete Account of Extraordinary Mulan, c. 1800 CE).\n",
            "The Mulan legend was first featured on film in China in 1939 in Mulan Joins the Army which presented her as an ardent nationalist whose zeal for her country and heroism shames her male comrades throughout her tour of duty.\n",
            "Mulan was featured, or alluded to, in other Chinese films afterwards but received international attention in 1998 with Disney's release of the animated feature film Mulan.\n",
            "The warrior woman Dou Xianniang also appears, combined with the “dark arts” aspect of The Story of the Loyal, Filial, and Heroic Mulan, to create an engaging character and the film works, drawing on many other aspects of the legend, to provide an audience with a new vision of the story instead of a simple remake of an earlier successful film.\n",
            "Mulan's story, and name, were also influential in the establishment of the martial art of Mulan Quan (also Mulan Hua Ja Quan) which combines tai chi with dance, Kung Fu, and other arts to create a unique form of self-defense and personal improvement.\n",
            "\n"
          ]
        }
      ]
    },
    {
      "cell_type": "markdown",
      "source": [
        "## Genghis Khan"
      ],
      "metadata": {
        "id": "5WiGXQLUExOc"
      }
    },
    {
      "cell_type": "code",
      "source": [
        "url = 'https://www.worldhistory.org/Genghis_Khan/'\n",
        "lsa_summa = TextSummarization(url, tfidf_summary, 10)\n",
        "lsa_summa.rouge_score(2)\n",
        "lsa_summa.print_summary()\n",
        "lsa_summa = TextSummarization(url, lsa_summary, 10)\n",
        "lsa_summa.rouge_score(2)\n",
        "lsa_summa.print_summary()\n",
        "lsa_summa = TextSummarization(url, textrank_summary, 10)\n",
        "lsa_summa.rouge_score(2)\n",
        "lsa_summa.print_summary()"
      ],
      "metadata": {
        "colab": {
          "base_uri": "https://localhost:8080/"
        },
        "id": "66i61PIX2X2F",
        "outputId": "a9e46ed5-cd35-446e-cf66-c92dbc3fa6b6"
      },
      "execution_count": 85,
      "outputs": [
        {
          "output_type": "stream",
          "name": "stdout",
          "text": [
            "tfidf_summary:\n",
            "rouge2 Precision: 0.02 Recall: 0.17 fmeasure: 0.03\n",
            "\n",
            "Genghis Khan had a fearsome reputation but he was an able administrator who introduced writing to the Mongols, created their first law code, promoted trade and granted religious freedom by permitting all religions to be freely practised anywhere in the Mongol world.\n",
            "Temujin's mother was called Hoelun and his father, Yisugei, who was a tribal leader, and he arranged for his son to marry Borte (aka Bortei), the daughter of another influential Mongol leader, Dei-secen, but before this plan could come to fruition, Temujin's father was poisoned by a rival.\n",
            "Things then got even worse when the young Temujin was captured by a rival clan leader, perhaps following an incident where Temujin may have killed one of his older half-brothers, Bekter, who likely represented a rival branch of the family that had taken on the legacy of Yisugei.\n",
            "Courageous himself in battle, Temujin would often reward bravery shown by the defeated, famously making a man called Jebe one of his generals because he had withstood a cavalry charge and fired an arrow that felled Temujin's own horse.\n",
            "As his army swelled to ever greater proportions, Temujin defeated, over a period of ten years or so, such rivals as the Tartars, Kereyids, Naimans, and Merkids until a Mongol confederation met at a great conference or kurultai at the Kerulen river in 1206 and formally declared Temujin their leader.\n",
            "The aim now was to combine this power base with the traditional Mongol skills of horsemanship and archery, and, not only overcome tradition rival neighbouring states but build an empire which then could conquer the richest state in Asia: China.\n",
            "They not only brought ferocious mobility to Asian warfare but they were, thanks to their flexibility, quickly adept at other types of battle, too, like siege warfare and the use of gunpowder missiles and catapults (first Chinese ones and then those from Afghanistan were adopted when they realised they were superior).\n",
            "Song China was now fully exposed from the north and weaker than ever, wracked as it was by internal political factions and hamstrung by an overly conservative foreign policy which meant that it was only a matter of time before the Mongols brought about its collapse, too.\n",
            "1193), who made the following description of the Great Khan, by then already a legendary figure: A man of a tall stature, of vigorous build, robust in body, the hair on his face scanty and turned white, with cat's eyes, possessed of great energy, discernment, genius and understanding, awe-inspiring, a butcher, just, resolute, an overthrower of enemies, intrepid, sanguinary and cruel' (Tabakat-i Nasiri, c. 1260, quoted in Saunders, 63) Genghis Khan died on 18 August 1227 of an unknown illness, perhaps initially caused by falling from his horse while hunting a few months earlier.\n",
            "The empire was to be divided amongst his sons Jochi, Chagatai (Chaghadai), Tolui (Tului), and Ogedei (Ogodei), with each ruling a khanate (although Jochi would predecease his father in 1227) and Ogedei, the third son, becoming the new Great Khan in 1229, a position he would maintain until his death in 1241.\n",
            "\n",
            "lsa_summary:\n",
            "rouge2 Precision: 0.03 Recall: 0.19 fmeasure: 0.04\n",
            "\n",
            "Temujin proved unstoppable, though, and he managed to unify most of the different nomadic tribes which roamed the grasslands of central Asia, each one composed of different but related clans, by creating a web of alliances between them.\n",
            "He was given the title of Genghis Khan which likely means 'universal' leader (the spelling in Mongol is Chinggis but 'Genghis' remains more familiar today and derives from medieval Arab scholars not having a ch in their language).\n",
            "Another innovation was the development of a postal system where horse-riding couriers could quickly carry messages across long distances and who were provided with regular stations for food, rest, and a change of horse.\n",
            "One Jin official, Yuan Haowen (1190-1257) wrote the following poem to describe the devastation of the Mongol invasion: White bones scattered like tangled hemp, how soon before mulberry and catalpa turn to dragon-sands?\n",
            "(Ebrey, 237) To add to the Jin's woes, they were beset with internal problems such as chronic corruption emptying the state coffers, natural disasters, and assassinations of top officials, including Emperor Feidi in 1213.\n",
            "Song China was now fully exposed from the north and weaker than ever, wracked as it was by internal political factions and hamstrung by an overly conservative foreign policy which meant that it was only a matter of time before the Mongols brought about its collapse, too.\n",
            "The campaigns in Western Asia and the edge of Europe brought Genghis Khan and the Mongols to the attention of a different set of historians than the Chinese, notably the Persian Minhaj al-Siraj Juzjani (b.\n",
            "1193), who made the following description of the Great Khan, by then already a legendary figure: A man of a tall stature, of vigorous build, robust in body, the hair on his face scanty and turned white, with cat's eyes, possessed of great energy, discernment, genius and understanding, awe-inspiring, a butcher, just, resolute, an overthrower of enemies, intrepid, sanguinary and cruel' (Tabakat-i Nasiri, c. 1260, quoted in Saunders, 63) Genghis Khan died on 18 August 1227 of an unknown illness, perhaps initially caused by falling from his horse while hunting a few months earlier.\n",
            "At the time, he was back in northwest China besieging the Xia state's capital, Zhongxing, and the news of the great leader's death was kept from the Mongol army until the city had capitulated and its inhabitants been slaughtered.\n",
            "Medieval sources mention the tomb was in the vicinity of the sacred mountain Burkan Kuldun, and that his son Ogedei sacrificed 40 slave girls and 40 horses to accompany his father into the next life.\n",
            "\n",
            "textrank_summary:\n",
            "rouge2 Precision: 0.09 Recall: 0.67 fmeasure: 0.16\n",
            "\n",
            "Genghis Khan (aka Chinggis Khan) was the founder of the Mongol Empire which he ruled from 1206 until his death in 1227.\n",
            "Born Temujin, he acquired the title of Genghis Khan, likely meaning 'universal ruler’, after unifying the Mongol tribes.\n",
            "Genghis Khan had a fearsome reputation but he was an able administrator who introduced writing to the Mongols, created their first law code, promoted trade and granted religious freedom by permitting all religions to be freely practised anywhere in the Mongol world.\n",
            "Temujin's mother was called Hoelun and his father, Yisugei, who was a tribal leader, and he arranged for his son to marry Borte (aka Bortei), the daughter of another influential Mongol leader, Dei-secen, but before this plan could come to fruition, Temujin's father was poisoned by a rival.\n",
            "As his army swelled to ever greater proportions, Temujin defeated, over a period of ten years or so, such rivals as the Tartars, Kereyids, Naimans, and Merkids until a Mongol confederation met at a great conference or kurultai at the Kerulen river in 1206 and formally declared Temujin their leader.\n",
            "He was given the title of Genghis Khan which likely means 'universal' leader (the spelling in Mongol is Chinggis but 'Genghis' remains more familiar today and derives from medieval Arab scholars not having a ch in their language).\n",
            "The Jin State Genghis attacked the Jin state (aka Jurchen Jin Dynasty, 1115-1234) and the plain of the Yellow River in 1205, 1209, and 1211, the latter invasion consisting of two Mongol armies of 50,000 men each.\n",
            "Rather short-sightedly, the fourth player in this game of empires, the Chinese Song Dynasty (aka Sung, 960 - 1279), instead of allying with the Jin to create a useful buffer zone between themselves and the Mongols, allied with the Khan.\n",
            "1193), who made the following description of the Great Khan, by then already a legendary figure: A man of a tall stature, of vigorous build, robust in body, the hair on his face scanty and turned white, with cat's eyes, possessed of great energy, discernment, genius and understanding, awe-inspiring, a butcher, just, resolute, an overthrower of enemies, intrepid, sanguinary and cruel' (Tabakat-i Nasiri, c. 1260, quoted in Saunders, 63) Genghis Khan died on 18 August 1227 of an unknown illness, perhaps initially caused by falling from his horse while hunting a few months earlier.\n",
            "At the time, he was back in northwest China besieging the Xia state's capital, Zhongxing, and the news of the great leader's death was kept from the Mongol army until the city had capitulated and its inhabitants been slaughtered.\n",
            "\n"
          ]
        }
      ]
    },
    {
      "cell_type": "markdown",
      "source": [
        "## The Iberian Conquest of the Americas"
      ],
      "metadata": {
        "id": "ZqzCAJ5-ya6C"
      }
    },
    {
      "cell_type": "code",
      "source": [
        "url = 'https://www.worldhistory.org/article/1920/the-iberian-conquest-of-the-americas/'\n",
        "lsa_summa = TextSummarization(url, tfidf_summary, 10)\n",
        "lsa_summa.rouge_score(2)\n",
        "lsa_summa.print_summary()\n",
        "lsa_summa = TextSummarization(url, lsa_summary, 10)\n",
        "lsa_summa.rouge_score(2)\n",
        "lsa_summa.print_summary()\n",
        "textrank_summa = TextSummarization(url, textrank_summary, 10)\n",
        "textrank_summa.rouge_score(2)\n",
        "textrank_summa.print_summary()"
      ],
      "metadata": {
        "colab": {
          "base_uri": "https://localhost:8080/"
        },
        "id": "HerGY9v00DAe",
        "outputId": "a006f85b-aad7-4b73-a208-95aa0a865970"
      },
      "execution_count": 86,
      "outputs": [
        {
          "output_type": "stream",
          "name": "stdout",
          "text": [
            "tfidf_summary:\n",
            "rouge2 Precision: 0.21 Recall: 1.00 fmeasure: 0.35\n",
            "\n",
            "European explorers began to probe the Western Hemisphere in the early 1500s, and they found to their utter amazement not only a huge landmass but also a world filled with several diverse and populous indigenous cultures.\n",
            "Among their most important conquests were those of Christopher Columbus in the Caribbean (1492-1502); Hernán Cortés in Aztec Mexico (1519-1521), Francisco Pizzaro and Diego de Almagro in Inca Peru (1528-1532), and Juan de Grijalva (1518) and Hernán Cortés (1519; 1524-1525) in Mayan Yucatán and Guatemala.\n",
            "Following an earlier expedition through the Yucatán led by Juan de Grijalva, Hernán Cortés began his campaign against the Aztec Empire in 1519 and with his coalition army captured the emperor Cuauhtémoc and the capital of the Aztec Empire, Tenochtitlan in 1521.\n",
            "It began when Francisco Pizarro, with his Andean allies captured and strangled Emperor Atahualpa in 1532, but it did not end for another 40 years until the last Inca stronghold of Vilcabamba (1500 m northeast of Cuzco) was conquered in 1572.\n",
            "Following Cortés' conquest of the Aztec Empire, the Crown of Castile established the Kingdom of New Spain, which covered a huge area including what is now Mexico, much of the American Southwest in North America, Central America, northern parts of South America, and the Philippines.\n",
            "The Spanish enforced this system of stratification through three institutions: When soldiers first encountered the native peoples, they were supposed to read aloud in Spanish the requerimiento, which told the natives they had to submit to the authority of the Spanish crown or face the sword.\n",
            "Some have argued that haciendas evolved from the encomiendas, but in the haciendas system, land was granted to private individuals, but instead of the owners utilizing forced labor on these estates, free labor was recruited on a permanent or casual basis.\n",
            "Because of the failure of most of the captaincies and the continued menace of French ships along the coast, King John III of Portugal (r. 1521-1557) decided in 1549 that he would have to colonize Brazil as a royal enterprise.\n",
            "The Amerindians were confronted with an array of crops of which they had no experience and were left with insufficient time to grow their own crops while tending the fields of their masters or working in dank, dark mines.\n",
            "There were at least 60 million people in North, Central, and South America before the first European contact in 1492, and by the 1600s probably 56 million had died, 90% of the whole pre-Columbian indigenous population.\n",
            "\n",
            "lsa_summary:\n",
            "rouge2 Precision: 0.10 Recall: 0.40 fmeasure: 0.17\n",
            "\n",
            "European explorers began to probe the Western Hemisphere in the early 1500s, and they found to their utter amazement not only a huge landmass but also a world filled with several diverse and populous indigenous cultures.\n",
            "The Amerindian farmers grew cassava, maize, potato, beans, squash, tomatoes, and chili peppers, while the Iberians cultivated wheat, barley, cabbage, onions, garlic, and carrots.\n",
            "Instead, he established a settlement at La Isabela, in today's Dominican Republic, from which he explored the interior of the Island for gold and silver and imposed a brutal tribute system on the local Taínos.\n",
            "It began when Francisco Pizarro, with his Andean allies captured and strangled Emperor Atahualpa in 1532, but it did not end for another 40 years until the last Inca stronghold of Vilcabamba (1500 m northeast of Cuzco) was conquered in 1572.\n",
            "The Spaniards would supervise the land, run the mines, and staff the colonial administrations, and the Amerindians (la republica de los indios), would provide the labor to feed, house, and clothe the Spanish.\n",
            "When some semblance of control was obtained, royal authorities then gave hereditary ownership of the native land to nobles and officers who, through the encomienda, received tribute and labor from the Indian villages.\n",
            "The indigenous occupants were required to provide a tribute of anything the land proved to hold – gold, crops, foodstuffs, and animals, and they owed a portion of their time to work on plantations or in mines.\n",
            "The widespread protest forced the crown to back down for a while, but in the early 1600s, the king replaced the encomienda with the repartimiento, where government officials (corregidor de indios) took over regulating the labor of the indigenous people.\n",
            "Pernambuco, the most successful captaincy, belonged to Duarte Coelho, who founded the city of Olinda in 1536 and set up sugar factories and plantations, to satisfy the growing sweet tooth of Europe.\n",
            "Tomé de Sousa also worked to repair the villages and reorganize the economies of the old captaincies and spread the Catholic faith among the indigenous people through the Jesuits, officially supported by the king.\n",
            "\n",
            "textrank_summary:\n",
            "rouge2 Precision: 0.02 Recall: 0.07 fmeasure: 0.03\n",
            "\n",
            "Their empire was a confederation of three huge city-states established in 1427: Tenochtitlan, the capital located on an island near the western shore of Lake Texcoco in central Mexico, Texcoco in the central Mexican plateau, and Tlacopan in the Valley of Mexico on the western shore of Lake Texcoco.\n",
            "Unlike the conquistadors in Spanish America who followed him, he made no large-scale conquest of the indigenous Taíno people.\n",
            "Following Cortés' conquest of the Aztec Empire, the Crown of Castile established the Kingdom of New Spain, which covered a huge area including what is now Mexico, much of the American Southwest in North America, Central America, northern parts of South America, and the Philippines.\n",
            "The Spanish enforced this system of stratification through three institutions: When soldiers first encountered the native peoples, they were supposed to read aloud in Spanish the requerimiento, which told the natives they had to submit to the authority of the Spanish crown or face the sword.\n",
            "The Spanish crown passed laws to make it clear that the indigenous people were not meant to be slaves and were in fact Spanish subjects with certain rights, but these laws were met with great hostility and resistance.\n",
            "The widespread protest forced the crown to back down for a while, but in the early 1600s, the king replaced the encomienda with the repartimiento, where government officials (corregidor de indios) took over regulating the labor of the indigenous people.\n",
            "The captaincies were granted control over huge strips of land and all the indigenous people that resided upon it, much like the Spanish encomiendas.\n",
            "Tomé de Sousa also worked to repair the villages and reorganize the economies of the old captaincies and spread the Catholic faith among the indigenous people through the Jesuits, officially supported by the king.\n",
            "During the European colonization of the Americas, the Europeans did all they could to ignore the agricultural achievements of the Amerindians and set out to replace the indigenous agro-ecosystems with their own crops and methods.\n",
            "There were at least 60 million people in North, Central, and South America before the first European contact in 1492, and by the 1600s probably 56 million had died, 90% of the whole pre-Columbian indigenous population.\n",
            "\n"
          ]
        }
      ]
    },
    {
      "cell_type": "markdown",
      "source": [
        "## Christmas Through the Ages\n"
      ],
      "metadata": {
        "id": "jcaaRNPb4XUu"
      }
    },
    {
      "cell_type": "code",
      "source": [
        "url = 'https://www.worldhistory.org/article/1893/christmas-through-the-ages/'\n",
        "lsa_summa = TextSummarization(url, tfidf_summary, 10)\n",
        "lsa_summa.rouge_score(2)\n",
        "lsa_summa.print_summary()\n",
        "lsa_summa = TextSummarization(url, lsa_summary, 10)\n",
        "lsa_summa.rouge_score(2)\n",
        "lsa_summa.print_summary()\n",
        "textrank_summa = TextSummarization(url, textrank_summary, 10)\n",
        "textrank_summa.rouge_score(2)\n",
        "textrank_summa.print_summary()"
      ],
      "metadata": {
        "colab": {
          "base_uri": "https://localhost:8080/"
        },
        "outputId": "63033210-e5de-4e0e-942b-0ef88b2520e1",
        "id": "BCjn0JmT4fsJ"
      },
      "execution_count": 90,
      "outputs": [
        {
          "output_type": "stream",
          "name": "stdout",
          "text": [
            "tfidf_summary:\n",
            "rouge2 Precision: 0.02 Recall: 0.11 fmeasure: 0.04\n",
            "\n",
            "That parties everywhere could get out of hand is attested by records of watchmen being paid to ensure property was not damaged over the 12-day holiday, particularly the big parties held on the eve of the 6th of January, known as Twelfth Night.\n",
            "The poor enjoyed more modest entertainment like cards and dice, carols, playing musical instruments, board games, telling folktales, and enjoying traditional party games like permitting one person to be the 'king of the feast' if they found a bean in the special bread or cake – everyone else then had to mimic the 'king' (a role-reversal game that echoed Saturnalia's similar 'Lord of Misrule').\n",
            "During the Elizabethan Era (1558-1603 CE) 'holy days' continued to be the main source of public 'holidays' – a term now being used for the first time – but there were also more secular activities establishing themselves as popular traditions.\n",
            "With no public roads, travelling by horse and carriage was slow and uncomfortable; nevertheless, the more intrepid could visit sights like Francis Drake's Golden Hind ship in London, which had made the first English circumnavigation of the globe (1577 to 1580).\n",
            "The next leap forward in how Christmas was celebrated came during the reign of Queen Victoria from 1837 to 1901, a period which witnessed some significant new traditions that have since become a lasting part of the holiday season.\n",
            "Not the first royal to have a Christmas tree in England, nevertheless, from 1841, Prince Albert began a lasting tradition which soon spread from town squares to living rooms across the country, the idea being spread by popular illustrated magazines that revealed the private festivities of the royal family.\n",
            "The young fir tree was decorated with candles and small presents (toys, sweets, charms, and candied fruit) hung from its boughs that were destined to be distributed to the Christmas guests who might have their name tagged to their gift.\n",
            "The jolly figure with the long white beard who visits homes on Christmas Eve to leave good children presents has his origins in the 4th-century Saint Nicholas, Bishop of Myra in Anatolia who delighted in distributing gifts, including sacks of gold.\n",
            "Father Christmas was not only inspired by Saint Nicholas but he also incorporated elements of the 'Spirit of Christmas' of folklore, which explains his more jovial and spirit-loving side, a trait children hopefully appeal to by leaving him out an alcoholic drink of some sort on Christmas Eve.\n",
            "Nowadays, electric lights may have replaced the candles on the tree, churches are not quite as busy as they used to be, the Yule log is now usually chocolate, and many of the cards have become electronic, but the traditions that have run through the centuries to celebrate Christmas Day continue each and every year to enchant and inspire as they have always done.\n",
            "\n",
            "lsa_summary:\n",
            "rouge2 Precision: 0.12 Recall: 0.48 fmeasure: 0.19\n",
            "\n",
            "From gift-giving to the sumptuous spread of a Christmas dinner table, this article traces the history of the celebrations from Roman times to the Victorian era when our modern take on the holiday was firmly established in both deed and literature.\n",
            "Saturnalia was a week-long Roman festival held between the 17th and 23rd of December that honoured the agricultural god Saturn, nicely encompassing the winter solstice, another event of significance in the pagan calendar.\n",
            "For the rich, fine clothes and jewellery were the norm; for the less well-off, nicer food than usual, a bundle of firewood or simple wooden toys like spinning tops and dolls were eagerly anticipated.\n",
            "The tradition of giving gifts on the 1st January remained strong, and this included Elizabeth I of England herself, who regularly received jewels, extravagant dresses, and feather fans from her courtiers.\n",
            "With no public roads, travelling by horse and carriage was slow and uncomfortable; nevertheless, the more intrepid could visit sights like Francis Drake's Golden Hind ship in London, which had made the first English circumnavigation of the globe (1577 to 1580).\n",
            "The Victorians certainly ensured that such medieval elements as a Christmas morning church service, feasting, games, gifts, and pantomimes continued to enjoy their status as essential activities of the season.\n",
            "The young fir tree was decorated with candles and small presents (toys, sweets, charms, and candied fruit) hung from its boughs that were destined to be distributed to the Christmas guests who might have their name tagged to their gift.\n",
            "A more efficient postage system and the introduction of the Penny Black stamp in 1840 meant that correspondence increased and a tradition developed of sending friends and distant family a Christmas card, first introduced in England in 1843.\n",
            "The jolly figure with the long white beard who visits homes on Christmas Eve to leave good children presents has his origins in the 4th-century Saint Nicholas, Bishop of Myra in Anatolia who delighted in distributing gifts, including sacks of gold.\n",
            "Nowadays, electric lights may have replaced the candles on the tree, churches are not quite as busy as they used to be, the Yule log is now usually chocolate, and many of the cards have become electronic, but the traditions that have run through the centuries to celebrate Christmas Day continue each and every year to enchant and inspire as they have always done.\n",
            "\n",
            "textrank_summary:\n",
            "rouge2 Precision: 0.04 Recall: 0.14 fmeasure: 0.07\n",
            "\n",
            "Several of the traditions today strongly associated with Christmas have a very long history indeed, even pre-dating the Christmas celebration itself.\n",
            "Christmas itself was seriously threatened by the Puritans, those Christian extremists who preferred to fast on Christmas day.\n",
            "The Victorians certainly ensured that such medieval elements as a Christmas morning church service, feasting, games, gifts, and pantomimes continued to enjoy their status as essential activities of the season.\n",
            "Not the first royal to have a Christmas tree in England, nevertheless, from 1841, Prince Albert began a lasting tradition which soon spread from town squares to living rooms across the country, the idea being spread by popular illustrated magazines that revealed the private festivities of the royal family.\n",
            "Presents were now given primarily on Christmas Day or Christmas Eve.\n",
            "The greatest gift-giver at Christmas is, of course, Father Christmas.\n",
            "Father Christmas was not only inspired by Saint Nicholas but he also incorporated elements of the 'Spirit of Christmas' of folklore, which explains his more jovial and spirit-loving side, a trait children hopefully appeal to by leaving him out an alcoholic drink of some sort on Christmas Eve.\n",
            "There was, too, a change in timing, some families continued to eat a Christmas lunch, perhaps a little later than a normal one, while others ate a Christmas dinner in the evening.\n",
            "Dickens' festive tale A Christmas Carol, with its story of the reformed miser Ebenezer Scrooge, has itself become a staple part of Christmas ever since its publication in 1843.\n",
            "Nowadays, electric lights may have replaced the candles on the tree, churches are not quite as busy as they used to be, the Yule log is now usually chocolate, and many of the cards have become electronic, but the traditions that have run through the centuries to celebrate Christmas Day continue each and every year to enchant and inspire as they have always done.\n",
            "\n"
          ]
        }
      ]
    },
    {
      "cell_type": "markdown",
      "source": [
        "# Conclusion"
      ],
      "metadata": {
        "id": "Gx6oOFtix73Z"
      }
    },
    {
      "cell_type": "markdown",
      "source": [
        " According to our experiments, not any single one of models can be the best model for any article. Therefore, it is worthwhile to test a bunch of different summarizer algorithms to choose the best one for our application."
      ],
      "metadata": {
        "id": "7HzAIpsfNph0"
      }
    }
  ],
  "metadata": {
    "kernelspec": {
      "display_name": "Python 3",
      "language": "python",
      "name": "python3"
    },
    "language_info": {
      "codemirror_mode": {
        "name": "ipython",
        "version": 3
      },
      "file_extension": ".py",
      "mimetype": "text/x-python",
      "name": "python",
      "nbconvert_exporter": "python",
      "pygments_lexer": "ipython3",
      "version": "3.8.8"
    },
    "toc": {
      "base_numbering": 1,
      "nav_menu": {},
      "number_sections": true,
      "sideBar": true,
      "skip_h1_title": false,
      "title_cell": "Table of Contents",
      "title_sidebar": "Contents",
      "toc_cell": false,
      "toc_position": {},
      "toc_section_display": true,
      "toc_window_display": false
    },
    "varInspector": {
      "cols": {
        "lenName": 16,
        "lenType": 16,
        "lenVar": 40
      },
      "kernels_config": {
        "python": {
          "delete_cmd_postfix": "",
          "delete_cmd_prefix": "del ",
          "library": "var_list.py",
          "varRefreshCmd": "print(var_dic_list())"
        },
        "r": {
          "delete_cmd_postfix": ") ",
          "delete_cmd_prefix": "rm(",
          "library": "var_list.r",
          "varRefreshCmd": "cat(var_dic_list()) "
        }
      },
      "types_to_exclude": [
        "module",
        "function",
        "builtin_function_or_method",
        "instance",
        "_Feature"
      ],
      "window_display": false
    },
    "colab": {
      "name": "2021-12-10-Text-Summarization-For-WHEncyclopedia.ipynb",
      "provenance": [],
      "collapsed_sections": [],
      "toc_visible": true
    }
  },
  "nbformat": 4,
  "nbformat_minor": 0
}